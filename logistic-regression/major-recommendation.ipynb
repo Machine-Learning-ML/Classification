{
 "cells": [
  {
   "cell_type": "code",
   "execution_count": 40,
   "metadata": {},
   "outputs": [],
   "source": [
    "import pandas as pd\n",
    "import numpy as np\n",
    "from sklearn.linear_model import LogisticRegression\n",
    "from sklearn.model_selection import train_test_split\n",
    "from sklearn.preprocessing import LabelEncoder, OneHotEncoder\n",
    "ohe = OneHotEncoder(sparse_output=False) "
   ]
  },
  {
   "cell_type": "code",
   "execution_count": 41,
   "metadata": {},
   "outputs": [],
   "source": [
    "major = pd.read_csv(\"major_observation.csv\")\n",
    "major = major.drop(\"Observation\",axis=1)\n",
    "\n",
    "X = major.iloc[:, 0:-1]\n",
    "y = major.iloc[:, -1]\n",
    "\n",
    "# Encode the target (y) using LabelEncoder\n",
    "le = LabelEncoder()\n",
    "y_encoded = le.fit_transform(y)  # Encode target labels\n",
    " # Use sparse_output=False for a dense array\n",
    "X_encoded = ohe.fit_transform(X)\n",
    "\n",
    "X_train, X_test, y_train, y_test = train_test_split(X_encoded, y_encoded, test_size=0.2, random_state=42)\n",
    "\n",
    "\n",
    "# Train the model\n",
    "model = LogisticRegression()\n",
    "model.fit(X_train, y_train)\n",
    "\n",
    "y_pred = model.predict(X_test)\n"
   ]
  },
  {
   "cell_type": "code",
   "execution_count": 42,
   "metadata": {},
   "outputs": [
    {
     "name": "stdout",
     "output_type": "stream",
     "text": [
      "Recommended Major: Business\n"
     ]
    }
   ],
   "source": [
    "import numpy as np\n",
    "\n",
    "def predect_major(major):\n",
    "    pre_major = np.array(major).reshape(1, -1)  # Shape: (1, 40)\n",
    "    # Make prediction\n",
    "    recommend_major = model.predict(pre_major)\n",
    "    return le.inverse_transform(recommend_major)[0]\n",
    "\n",
    "new_survey = [1, 0, 1, 0, 1, 0, 0, 1, 1, 0, 0, 0, 0, 0, 0, 1, 0, 1, 1, 0]\n",
    "\n",
    "if len(new_survey) < 40:\n",
    "    new_survey += [0] * (40 - len(new_survey))  # Pad with zeros to make 40 features\n",
    "    \n",
    "recommend_major = predect_major(new_survey)\n",
    "print(\"Recommended Major:\", recommend_major)"
   ]
  },
  {
   "cell_type": "code",
   "execution_count": 43,
   "metadata": {},
   "outputs": [
    {
     "name": "stdout",
     "output_type": "stream",
     "text": [
      "Predicted Major: Business\n"
     ]
    }
   ],
   "source": [
    "import numpy as np\n",
    "import warnings\n",
    "# Suppress the specific warning\n",
    "warnings.filterwarnings(\"ignore\", category=UserWarning, \n",
    "                        message=\"X does not have valid feature names, but OneHotEncoder was fitted with feature names\")\n",
    "\n",
    "def major_predict(major):\n",
    "    major_reshaped = np.array(major).reshape(-1, 1)  # Shape: (20, 1)\n",
    "    major_encoded = ohe.transform(major_reshaped.T)  # Transpose to match encoder's expectation\n",
    "    major_prediction = model.predict(major_encoded)\n",
    "    return le.inverse_transform(major_prediction)[0]\n",
    "\n",
    "# New survey data\n",
    "new_survey_str = [\"yes\", \"no\", \"yes\", \"no\", \"yes\", \"yes\", \"no\", \"yes\", \"no\", \"yes\", \n",
    "                  \"no\", \"no\", \"yes\", \"no\", \"yes\", \"yes\", \"no\", \"no\", \"yes\", \"yes\"]\n",
    "\n",
    "bussines = [\"yes\",\"yes\",\"no\",\"yes\",\"yes\",\"no\",\"no\",\"no\",\"yes\",\"yes\",\"no\",\"no\",\"no\",\"yes\",\"no\",\"no\",\"no\",\"no\",\"yes\",\"yes\"]\n",
    "\n",
    "prediction = major_predict(bussines)\n",
    "\n",
    "print(\"Predicted Major:\",prediction )"
   ]
  },
  {
   "cell_type": "code",
   "execution_count": 44,
   "metadata": {},
   "outputs": [
    {
     "name": "stdout",
     "output_type": "stream",
     "text": [
      "Predicted Major: Business\n"
     ]
    }
   ],
   "source": [
    "def major_predict(major):\n",
    "    major_df = pd.DataFrame([major], columns=X.columns)\n",
    "    major_encoded = ohe.transform(major_df)  # Transform new data\n",
    "    major_prediction = model.predict(major_encoded)\n",
    "    return le.inverse_transform(major_prediction)[0]\n",
    "\n",
    "# New survey data\n",
    "new_survey_str = [\"yes\", \"no\", \"yes\", \"no\", \"yes\", \"yes\", \"no\", \"yes\", \"no\", \"yes\", \n",
    "                  \"no\", \"no\", \"yes\", \"no\", \"yes\", \"yes\", \"no\", \"no\", \"yes\", \"yes\"]\n",
    "\n",
    "bussines = [\"yes\",\"yes\",\"no\",\"yes\",\"yes\",\"no\",\"no\",\"no\",\"yes\",\"yes\",\"no\",\"no\",\"no\",\"yes\",\"no\",\"no\",\"no\",\"no\",\"yes\",\"yes\"]\n",
    "\n",
    "prediction = major_predict(bussines)\n",
    "\n",
    "print(\"Predicted Major:\",prediction )"
   ]
  },
  {
   "cell_type": "code",
   "execution_count": 45,
   "metadata": {},
   "outputs": [
    {
     "data": {
      "text/plain": [
       "array([[3, 0, 0],\n",
       "       [0, 1, 0],\n",
       "       [0, 0, 2]])"
      ]
     },
     "execution_count": 45,
     "metadata": {},
     "output_type": "execute_result"
    }
   ],
   "source": [
    "from sklearn.metrics import confusion_matrix\n",
    "cnf_matrix = confusion_matrix(y_test, y_pred)\n",
    "cnf_matrix"
   ]
  }
 ],
 "metadata": {
  "kernelspec": {
   "display_name": "base",
   "language": "python",
   "name": "python3"
  },
  "language_info": {
   "codemirror_mode": {
    "name": "ipython",
    "version": 3
   },
   "file_extension": ".py",
   "mimetype": "text/x-python",
   "name": "python",
   "nbconvert_exporter": "python",
   "pygments_lexer": "ipython3",
   "version": "3.12.7"
  }
 },
 "nbformat": 4,
 "nbformat_minor": 2
}
