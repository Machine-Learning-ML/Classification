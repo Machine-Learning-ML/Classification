{
 "cells": [
  {
   "cell_type": "code",
   "execution_count": 1,
   "metadata": {},
   "outputs": [],
   "source": [
    "import numpy as np\n",
    "from sklearn.linear_model import LogisticRegression"
   ]
  },
  {
   "cell_type": "code",
   "execution_count": 2,
   "metadata": {},
   "outputs": [],
   "source": [
    "# Example data\n",
    "X = np.array([[2, 50], [3, 70], [4, 80], [5, 90], [6, 95]])  \n",
    "y = np.array([0, 0, 1, 1, 1]) "
   ]
  },
  {
   "cell_type": "code",
   "execution_count": 3,
   "metadata": {},
   "outputs": [
    {
     "name": "stdout",
     "output_type": "stream",
     "text": [
      "Intercept (β0): [-42.22747707]\n",
      "Coefficients (β1, β2): [[0.05604565 0.56044529]]\n"
     ]
    }
   ],
   "source": [
    "model = LogisticRegression()\n",
    "model.fit(X,y)\n",
    "\n",
    "# Print learned parameters\n",
    "print(f\"Intercept (β0): {model.intercept_}\")\n",
    "print(f\"Coefficients (β1, β2): {model.coef_}\")"
   ]
  },
  {
   "cell_type": "code",
   "execution_count": 4,
   "metadata": {},
   "outputs": [
    {
     "name": "stdout",
     "output_type": "stream",
     "text": [
      "probability: 0.9444\n"
     ]
    }
   ],
   "source": [
    "new_student = np.array([[4,80]])\n",
    "probability = model.predict_proba(new_student)[:,1]\n",
    "# print(f\"Probability of passing: {probability[0]:.4f}\")\n",
    "print(f\"probability: {probability[0]:.4f}\")\n"
   ]
  }
 ],
 "metadata": {
  "kernelspec": {
   "display_name": "base",
   "language": "python",
   "name": "python3"
  },
  "language_info": {
   "codemirror_mode": {
    "name": "ipython",
    "version": 3
   },
   "file_extension": ".py",
   "mimetype": "text/x-python",
   "name": "python",
   "nbconvert_exporter": "python",
   "pygments_lexer": "ipython3",
   "version": "3.12.7"
  }
 },
 "nbformat": 4,
 "nbformat_minor": 2
}
